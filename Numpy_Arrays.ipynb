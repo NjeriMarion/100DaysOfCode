{
  "nbformat": 4,
  "nbformat_minor": 0,
  "metadata": {
    "colab": {
      "provenance": [],
      "authorship_tag": "ABX9TyP6geS6s1vhfnLGdnXOUCOO",
      "include_colab_link": true
    },
    "kernelspec": {
      "name": "python3",
      "display_name": "Python 3"
    },
    "language_info": {
      "name": "python"
    }
  },
  "cells": [
    {
      "cell_type": "markdown",
      "metadata": {
        "id": "view-in-github",
        "colab_type": "text"
      },
      "source": [
        "<a href=\"https://colab.research.google.com/github/NjeriMarion/100DaysOfCode/blob/main/Numpy_Arrays.ipynb\" target=\"_parent\"><img src=\"https://colab.research.google.com/assets/colab-badge.svg\" alt=\"Open In Colab\"/></a>"
      ]
    },
    {
      "cell_type": "code",
      "execution_count": null,
      "metadata": {
        "id": "HvhyodjrZF0y"
      },
      "outputs": [],
      "source": [
        "import numpy as np"
      ]
    },
    {
      "cell_type": "code",
      "source": [
        "#passing a list into the numpy array method so as to create an ndarray\n",
        "arr = np.array([1,2,3,4,5])\n",
        "print(arr)"
      ],
      "metadata": {
        "colab": {
          "base_uri": "https://localhost:8080/"
        },
        "id": "s5mDqllKZP5F",
        "outputId": "822fa2f3-63d6-4015-d2a8-4ef9221b4952"
      },
      "execution_count": null,
      "outputs": [
        {
          "output_type": "stream",
          "name": "stdout",
          "text": [
            "[1 2 3 4 5]\n"
          ]
        }
      ]
    },
    {
      "cell_type": "code",
      "source": [
        "print(np.__version__)"
      ],
      "metadata": {
        "colab": {
          "base_uri": "https://localhost:8080/"
        },
        "id": "Z-26tYxyZWd1",
        "outputId": "0d29a528-6160-4339-d2bd-217b6616265c"
      },
      "execution_count": null,
      "outputs": [
        {
          "output_type": "stream",
          "name": "stdout",
          "text": [
            "1.22.4\n"
          ]
        }
      ]
    },
    {
      "cell_type": "code",
      "source": [
        "print(type(arr))"
      ],
      "metadata": {
        "colab": {
          "base_uri": "https://localhost:8080/"
        },
        "id": "KDNUyZXVZoBv",
        "outputId": "9a25d006-8fee-4f91-d0d0-d10feecff853"
      },
      "execution_count": null,
      "outputs": [
        {
          "output_type": "stream",
          "name": "stdout",
          "text": [
            "<class 'numpy.ndarray'>\n"
          ]
        }
      ]
    },
    {
      "cell_type": "code",
      "source": [
        "# Passsing a tuple into the numpy array mehtod so as to create an ndarray.\n",
        "\n",
        "arr_two = np.array((1,2,3,4,5,6,7))\n",
        "print(arr_two)"
      ],
      "metadata": {
        "colab": {
          "base_uri": "https://localhost:8080/"
        },
        "id": "DCGH651haA0b",
        "outputId": "f8c38cfc-2c22-4681-c35b-06184a054afe"
      },
      "execution_count": null,
      "outputs": [
        {
          "output_type": "stream",
          "name": "stdout",
          "text": [
            "[1 2 3 4 5 6 7]\n"
          ]
        }
      ]
    },
    {
      "cell_type": "code",
      "source": [
        "#O-D ARRAYS\n",
        "#0-D or scalars are the elements in an array. Each value in an array is a 0-D array\n",
        "# i.e\n",
        "arr_0D = np.array(42)\n",
        "print(arr_0D)\n"
      ],
      "metadata": {
        "colab": {
          "base_uri": "https://localhost:8080/"
        },
        "id": "aHHGpdr7degf",
        "outputId": "4e5adac6-93c3-4db6-ea9b-9d52e096695e"
      },
      "execution_count": null,
      "outputs": [
        {
          "output_type": "stream",
          "name": "stdout",
          "text": [
            "42\n"
          ]
        }
      ]
    },
    {
      "cell_type": "code",
      "source": [
        "#1-D ARRAYS\n",
        "#An array that has 0-D arrays as its elements is called uni-dimensional or 1-D array.\n",
        "#i.e\n",
        "arr_1D = np.array([1,2,3,4,5])\n",
        "print(arr_1D)\n"
      ],
      "metadata": {
        "colab": {
          "base_uri": "https://localhost:8080/"
        },
        "id": "E9iXRBhqjMzG",
        "outputId": "17a6dcba-c2f5-47cb-ef8b-091e0b60b816"
      },
      "execution_count": null,
      "outputs": [
        {
          "output_type": "stream",
          "name": "stdout",
          "text": [
            "[1 2 3 4 5]\n"
          ]
        }
      ]
    },
    {
      "cell_type": "code",
      "source": [
        "#2-D ARRAYS\n",
        "#An array that has 1-D arrays as its elements is called a 2-D array.\n",
        "#i.e\n",
        "arr_2D = np.array([[1,2,3,4,5], [6,7,8,9,10,11]])\n",
        "print(arr_2D)"
      ],
      "metadata": {
        "colab": {
          "base_uri": "https://localhost:8080/"
        },
        "id": "C-8RlNLglQqd",
        "outputId": "3f273c4d-59fb-4c90-db22-82a7caa5fa81"
      },
      "execution_count": null,
      "outputs": [
        {
          "output_type": "stream",
          "name": "stdout",
          "text": [
            "[list([1, 2, 3, 4, 5]) list([6, 7, 8, 9, 10, 11])]\n"
          ]
        },
        {
          "output_type": "stream",
          "name": "stderr",
          "text": [
            "<ipython-input-12-5cdf52e5b2f5>:4: VisibleDeprecationWarning: Creating an ndarray from ragged nested sequences (which is a list-or-tuple of lists-or-tuples-or ndarrays with different lengths or shapes) is deprecated. If you meant to do this, you must specify 'dtype=object' when creating the ndarray.\n",
            "  arr_2D = np.array([[1,2,3,4,5], [6,7,8,9,10,11]])\n"
          ]
        }
      ]
    },
    {
      "cell_type": "code",
      "source": [
        "#Specifying the dtype of the array object when creating the ndarray helps removing the deprecation from the ndarray\n",
        "x= np.array([[1,2,3],[4,5,6]], np.int32)\n",
        "type(x)\n",
        "x.shape\n",
        "x.dtype\n",
        "print(x, x.shape, x.dtype)\n",
        "\n",
        "#indexing to get individual elements\n",
        "y = x[:,2]\n",
        "y\n",
        "y[0] = 9 #changes the value at this position in y as well as in x\n",
        "y\n",
        "x\n",
        "print(x.ndim)\n",
        "\n",
        "#When creating an array, one can define the number of dimensions by using the ndmin argument\n",
        "z = np.array([1,2,3,4,6], ndmin = 5)\n",
        "print(z)\n",
        "print('number of dimensions : ', z.ndim)\n",
        "\n",
        "\n"
      ],
      "metadata": {
        "colab": {
          "base_uri": "https://localhost:8080/"
        },
        "id": "_30Bwa77nIyp",
        "outputId": "17901816-3939-4e4c-f389-f78d26e31ea8"
      },
      "execution_count": null,
      "outputs": [
        {
          "output_type": "stream",
          "name": "stdout",
          "text": [
            "[[1 2 3]\n",
            " [4 5 6]] (2, 3) int32\n",
            "2\n",
            "[[[[[1 2 3 4 6]]]]]\n",
            "number of dimensions :  5\n"
          ]
        }
      ]
    },
    {
      "cell_type": "code",
      "source": [],
      "metadata": {
        "id": "zbVMGouxbh9e"
      },
      "execution_count": null,
      "outputs": []
    }
  ]
}